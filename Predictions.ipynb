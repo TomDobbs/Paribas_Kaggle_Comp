{
 "cells": [
  {
   "cell_type": "code",
   "execution_count": 1,
   "metadata": {
    "collapsed": false
   },
   "outputs": [
    {
     "name": "stderr",
     "output_type": "stream",
     "text": [
      "/Users/macuser/anaconda/lib/python2.7/site-packages/pandas/computation/__init__.py:19: UserWarning: The installed version of numexpr 2.4.4 is not supported in pandas and will be not be used\n",
      "\n",
      "  UserWarning)\n",
      "/Users/macuser/anaconda/lib/python2.7/site-packages/IPython/html.py:14: ShimWarning: The `IPython.html` package has been deprecated. You should import from `notebook` instead. `IPython.html.widgets` has moved to `ipywidgets`.\n",
      "  \"`IPython.html.widgets` has moved to `ipywidgets`.\", ShimWarning)\n"
     ]
    }
   ],
   "source": [
    "import pandas as pd \n",
    "import numpy as np\n",
    "import matplotlib.pyplot as plt\n",
    "import seaborn as sns\n",
    "import statsmodels.api as sm\n",
    "from sklearn.linear_model import LogisticRegression\n",
    "import eda\n",
    "\n",
    "%matplotlib inline"
   ]
  },
  {
   "cell_type": "markdown",
   "metadata": {},
   "source": [
    "### Build Model"
   ]
  },
  {
   "cell_type": "code",
   "execution_count": 2,
   "metadata": {
    "collapsed": false
   },
   "outputs": [],
   "source": [
    "df = pd.read_csv('train.csv',index_col='ID')"
   ]
  },
  {
   "cell_type": "code",
   "execution_count": 3,
   "metadata": {
    "collapsed": false
   },
   "outputs": [
    {
     "data": {
      "text/html": [
       "<div>\n",
       "<table border=\"1\" class=\"dataframe\">\n",
       "  <thead>\n",
       "    <tr style=\"text-align: right;\">\n",
       "      <th></th>\n",
       "      <th>target</th>\n",
       "      <th>v1</th>\n",
       "      <th>v2</th>\n",
       "      <th>v3</th>\n",
       "      <th>v4</th>\n",
       "      <th>v5</th>\n",
       "      <th>v6</th>\n",
       "      <th>v7</th>\n",
       "      <th>v8</th>\n",
       "      <th>v9</th>\n",
       "      <th>...</th>\n",
       "      <th>v122</th>\n",
       "      <th>v123</th>\n",
       "      <th>v124</th>\n",
       "      <th>v125</th>\n",
       "      <th>v126</th>\n",
       "      <th>v127</th>\n",
       "      <th>v128</th>\n",
       "      <th>v129</th>\n",
       "      <th>v130</th>\n",
       "      <th>v131</th>\n",
       "    </tr>\n",
       "    <tr>\n",
       "      <th>ID</th>\n",
       "      <th></th>\n",
       "      <th></th>\n",
       "      <th></th>\n",
       "      <th></th>\n",
       "      <th></th>\n",
       "      <th></th>\n",
       "      <th></th>\n",
       "      <th></th>\n",
       "      <th></th>\n",
       "      <th></th>\n",
       "      <th></th>\n",
       "      <th></th>\n",
       "      <th></th>\n",
       "      <th></th>\n",
       "      <th></th>\n",
       "      <th></th>\n",
       "      <th></th>\n",
       "      <th></th>\n",
       "      <th></th>\n",
       "      <th></th>\n",
       "      <th></th>\n",
       "    </tr>\n",
       "  </thead>\n",
       "  <tbody>\n",
       "    <tr>\n",
       "      <th>3</th>\n",
       "      <td>1</td>\n",
       "      <td>1.335739</td>\n",
       "      <td>8.727474</td>\n",
       "      <td>C</td>\n",
       "      <td>3.921026</td>\n",
       "      <td>7.915266</td>\n",
       "      <td>2.599278</td>\n",
       "      <td>3.176895</td>\n",
       "      <td>0.012941</td>\n",
       "      <td>9.999999</td>\n",
       "      <td>...</td>\n",
       "      <td>8.000000</td>\n",
       "      <td>1.989780</td>\n",
       "      <td>0.035754</td>\n",
       "      <td>AU</td>\n",
       "      <td>1.804126</td>\n",
       "      <td>3.113719</td>\n",
       "      <td>2.024285</td>\n",
       "      <td>0</td>\n",
       "      <td>0.636365</td>\n",
       "      <td>2.857144</td>\n",
       "    </tr>\n",
       "    <tr>\n",
       "      <th>4</th>\n",
       "      <td>1</td>\n",
       "      <td>NaN</td>\n",
       "      <td>NaN</td>\n",
       "      <td>C</td>\n",
       "      <td>NaN</td>\n",
       "      <td>9.191265</td>\n",
       "      <td>NaN</td>\n",
       "      <td>NaN</td>\n",
       "      <td>2.301630</td>\n",
       "      <td>NaN</td>\n",
       "      <td>...</td>\n",
       "      <td>NaN</td>\n",
       "      <td>NaN</td>\n",
       "      <td>0.598896</td>\n",
       "      <td>AF</td>\n",
       "      <td>NaN</td>\n",
       "      <td>NaN</td>\n",
       "      <td>1.957825</td>\n",
       "      <td>0</td>\n",
       "      <td>NaN</td>\n",
       "      <td>NaN</td>\n",
       "    </tr>\n",
       "    <tr>\n",
       "      <th>5</th>\n",
       "      <td>1</td>\n",
       "      <td>0.943877</td>\n",
       "      <td>5.310079</td>\n",
       "      <td>C</td>\n",
       "      <td>4.410969</td>\n",
       "      <td>5.326159</td>\n",
       "      <td>3.979592</td>\n",
       "      <td>3.928571</td>\n",
       "      <td>0.019645</td>\n",
       "      <td>12.666667</td>\n",
       "      <td>...</td>\n",
       "      <td>9.333333</td>\n",
       "      <td>2.477596</td>\n",
       "      <td>0.013452</td>\n",
       "      <td>AE</td>\n",
       "      <td>1.773709</td>\n",
       "      <td>3.922193</td>\n",
       "      <td>1.120468</td>\n",
       "      <td>2</td>\n",
       "      <td>0.883118</td>\n",
       "      <td>1.176472</td>\n",
       "    </tr>\n",
       "    <tr>\n",
       "      <th>6</th>\n",
       "      <td>1</td>\n",
       "      <td>0.797415</td>\n",
       "      <td>8.304757</td>\n",
       "      <td>C</td>\n",
       "      <td>4.225930</td>\n",
       "      <td>11.627438</td>\n",
       "      <td>2.097700</td>\n",
       "      <td>1.987549</td>\n",
       "      <td>0.171947</td>\n",
       "      <td>8.965516</td>\n",
       "      <td>...</td>\n",
       "      <td>7.018256</td>\n",
       "      <td>1.812795</td>\n",
       "      <td>0.002267</td>\n",
       "      <td>CJ</td>\n",
       "      <td>1.415230</td>\n",
       "      <td>2.954381</td>\n",
       "      <td>1.990847</td>\n",
       "      <td>1</td>\n",
       "      <td>1.677108</td>\n",
       "      <td>1.034483</td>\n",
       "    </tr>\n",
       "    <tr>\n",
       "      <th>8</th>\n",
       "      <td>1</td>\n",
       "      <td>NaN</td>\n",
       "      <td>NaN</td>\n",
       "      <td>C</td>\n",
       "      <td>NaN</td>\n",
       "      <td>NaN</td>\n",
       "      <td>NaN</td>\n",
       "      <td>NaN</td>\n",
       "      <td>NaN</td>\n",
       "      <td>NaN</td>\n",
       "      <td>...</td>\n",
       "      <td>NaN</td>\n",
       "      <td>NaN</td>\n",
       "      <td>NaN</td>\n",
       "      <td>Z</td>\n",
       "      <td>NaN</td>\n",
       "      <td>NaN</td>\n",
       "      <td>NaN</td>\n",
       "      <td>0</td>\n",
       "      <td>NaN</td>\n",
       "      <td>NaN</td>\n",
       "    </tr>\n",
       "  </tbody>\n",
       "</table>\n",
       "<p>5 rows × 132 columns</p>\n",
       "</div>"
      ],
      "text/plain": [
       "    target        v1        v2 v3        v4         v5        v6        v7  \\\n",
       "ID                                                                           \n",
       "3        1  1.335739  8.727474  C  3.921026   7.915266  2.599278  3.176895   \n",
       "4        1       NaN       NaN  C       NaN   9.191265       NaN       NaN   \n",
       "5        1  0.943877  5.310079  C  4.410969   5.326159  3.979592  3.928571   \n",
       "6        1  0.797415  8.304757  C  4.225930  11.627438  2.097700  1.987549   \n",
       "8        1       NaN       NaN  C       NaN        NaN       NaN       NaN   \n",
       "\n",
       "          v8         v9    ...         v122      v123      v124  v125  \\\n",
       "ID                         ...                                          \n",
       "3   0.012941   9.999999    ...     8.000000  1.989780  0.035754    AU   \n",
       "4   2.301630        NaN    ...          NaN       NaN  0.598896    AF   \n",
       "5   0.019645  12.666667    ...     9.333333  2.477596  0.013452    AE   \n",
       "6   0.171947   8.965516    ...     7.018256  1.812795  0.002267    CJ   \n",
       "8        NaN        NaN    ...          NaN       NaN       NaN     Z   \n",
       "\n",
       "        v126      v127      v128  v129      v130      v131  \n",
       "ID                                                          \n",
       "3   1.804126  3.113719  2.024285     0  0.636365  2.857144  \n",
       "4        NaN       NaN  1.957825     0       NaN       NaN  \n",
       "5   1.773709  3.922193  1.120468     2  0.883118  1.176472  \n",
       "6   1.415230  2.954381  1.990847     1  1.677108  1.034483  \n",
       "8        NaN       NaN       NaN     0       NaN       NaN  \n",
       "\n",
       "[5 rows x 132 columns]"
      ]
     },
     "execution_count": 3,
     "metadata": {},
     "output_type": "execute_result"
    }
   ],
   "source": [
    "df.head()"
   ]
  },
  {
   "cell_type": "code",
   "execution_count": 4,
   "metadata": {
    "collapsed": false
   },
   "outputs": [],
   "source": [
    "# 21 perfectly correlated w/ variable in v3\n",
    "df = df.drop('v21', axis=1)\n",
    "# v91 perfectly correlated with v107 (check this later)\n",
    "df = df.drop('v91', axis=1)\n",
    "\n",
    "# Pick best values from large dummies\n",
    "best_vals = df['v22'].value_counts()[:10].index.values\n",
    "\n",
    "for val in best_vals:\n",
    "    df[val] = 1 * (df['v22'] == val) \n",
    "\n",
    "df = df.drop('v22', axis=1)    "
   ]
  },
  {
   "cell_type": "code",
   "execution_count": 5,
   "metadata": {
    "collapsed": false
   },
   "outputs": [],
   "source": [
    "# df, na_cols = eda.not_applicable(df)\n",
    "# print 'NA Columns:', na_cols"
   ]
  },
  {
   "cell_type": "code",
   "execution_count": 6,
   "metadata": {
    "collapsed": true
   },
   "outputs": [],
   "source": [
    "df['v3'] = df['v3'].fillna('Other')"
   ]
  },
  {
   "cell_type": "code",
   "execution_count": 7,
   "metadata": {
    "collapsed": false
   },
   "outputs": [
    {
     "name": "stdout",
     "output_type": "stream",
     "text": [
      "v30 Other 60110 na rows @ 52.6 % nan's\n",
      "v31 Other 3457 na rows @ 3.0 % nan's\n",
      "v52 Other 3 na rows @ 0.0 % nan's\n",
      "v56 Other 6882 na rows @ 6.0 % nan's\n",
      "v107 Other 3 na rows @ 0.0 % nan's\n",
      "v112 Other 382 na rows @ 0.3 % nan's\n",
      "v113 Other 55304 na rows @ 48.4 % nan's\n",
      "v125 Other 77 na rows @ 0.1 % nan's\n",
      "String NA Fill Columns: ['v30', 'v31', 'v52', 'v56', 'v107', 'v112', 'v113', 'v125']\n"
     ]
    }
   ],
   "source": [
    "df_new, str_na_fill = eda.na_fill_str(df)\n",
    "print 'String NA Fill Columns:', str_na_fill"
   ]
  },
  {
   "cell_type": "code",
   "execution_count": 8,
   "metadata": {
    "collapsed": false
   },
   "outputs": [
    {
     "name": "stdout",
     "output_type": "stream",
     "text": [
      "v1 meaned 49832 na rows @ 43.6 % nan's\n",
      "v2 meaned 49796 na rows @ 43.6 % nan's\n",
      "v4 meaned 49796 na rows @ 43.6 % nan's\n",
      "v5 meaned 48624 na rows @ 42.5 % nan's\n",
      "v6 meaned 49832 na rows @ 43.6 % nan's\n",
      "v7 meaned 49832 na rows @ 43.6 % nan's\n",
      "v8 meaned 48619 na rows @ 42.5 % nan's\n",
      "v9 meaned 49851 na rows @ 43.6 % nan's\n",
      "v10 meaned 84 na rows @ 0.1 % nan's\n",
      "v11 meaned 49836 na rows @ 43.6 % nan's\n",
      "v12 meaned 86 na rows @ 0.1 % nan's\n",
      "v13 meaned 49832 na rows @ 43.6 % nan's\n",
      "v14 meaned 4 na rows @ 0.0 % nan's\n",
      "v15 meaned 49836 na rows @ 43.6 % nan's\n",
      "v16 meaned 49895 na rows @ 43.6 % nan's\n",
      "v17 meaned 49796 na rows @ 43.6 % nan's\n",
      "v18 meaned 49832 na rows @ 43.6 % nan's\n",
      "v19 meaned 49843 na rows @ 43.6 % nan's\n",
      "v20 meaned 49840 na rows @ 43.6 % nan's\n",
      "v23 meaned 50675 na rows @ 44.3 % nan's\n",
      "v25 meaned 48619 na rows @ 42.5 % nan's\n",
      "v26 meaned 49832 na rows @ 43.6 % nan's\n",
      "v27 meaned 49832 na rows @ 43.6 % nan's\n",
      "v28 meaned 49832 na rows @ 43.6 % nan's\n",
      "v29 meaned 49832 na rows @ 43.6 % nan's\n",
      "v32 meaned 49832 na rows @ 43.6 % nan's\n",
      "v33 meaned 49832 na rows @ 43.6 % nan's\n",
      "v34 meaned 111 na rows @ 0.1 % nan's\n",
      "v35 meaned 49832 na rows @ 43.6 % nan's\n",
      "v36 meaned 48624 na rows @ 42.5 % nan's\n",
      "v37 meaned 49843 na rows @ 43.6 % nan's\n",
      "v39 meaned 49836 na rows @ 43.6 % nan's\n",
      "v40 meaned 111 na rows @ 0.1 % nan's\n",
      "v41 meaned 49832 na rows @ 43.6 % nan's\n",
      "v42 meaned 49832 na rows @ 43.6 % nan's\n",
      "v43 meaned 49836 na rows @ 43.6 % nan's\n",
      "v44 meaned 49796 na rows @ 43.6 % nan's\n",
      "v45 meaned 49832 na rows @ 43.6 % nan's\n",
      "v46 meaned 48619 na rows @ 42.5 % nan's\n",
      "v48 meaned 49796 na rows @ 43.6 % nan's\n",
      "v49 meaned 49832 na rows @ 43.6 % nan's\n",
      "v50 meaned 86 na rows @ 0.1 % nan's\n",
      "v51 meaned 50678 na rows @ 44.3 % nan's\n",
      "v53 meaned 49836 na rows @ 43.6 % nan's\n",
      "v54 meaned 48619 na rows @ 42.5 % nan's\n",
      "v55 meaned 49832 na rows @ 43.6 % nan's\n",
      "v57 meaned 49832 na rows @ 43.6 % nan's\n",
      "v58 meaned 49836 na rows @ 43.6 % nan's\n",
      "v59 meaned 49796 na rows @ 43.6 % nan's\n",
      "v60 meaned 49832 na rows @ 43.6 % nan's\n",
      "v61 meaned 49796 na rows @ 43.6 % nan's\n",
      "v63 meaned 48619 na rows @ 42.5 % nan's\n",
      "v64 meaned 49796 na rows @ 43.6 % nan's\n",
      "v65 meaned 49840 na rows @ 43.6 % nan's\n",
      "v67 meaned 49832 na rows @ 43.6 % nan's\n",
      "v68 meaned 49836 na rows @ 43.6 % nan's\n",
      "v69 meaned 49895 na rows @ 43.6 % nan's\n",
      "v70 meaned 48636 na rows @ 42.5 % nan's\n",
      "v73 meaned 49836 na rows @ 43.6 % nan's\n",
      "v76 meaned 49796 na rows @ 43.6 % nan's\n",
      "v77 meaned 49832 na rows @ 43.6 % nan's\n",
      "v78 meaned 49895 na rows @ 43.6 % nan's\n",
      "v80 meaned 49851 na rows @ 43.6 % nan's\n",
      "v81 meaned 48624 na rows @ 42.5 % nan's\n",
      "v82 meaned 48624 na rows @ 42.5 % nan's\n",
      "v83 meaned 49832 na rows @ 43.6 % nan's\n",
      "v84 meaned 49832 na rows @ 43.6 % nan's\n",
      "v85 meaned 50682 na rows @ 44.3 % nan's\n",
      "v86 meaned 49832 na rows @ 43.6 % nan's\n",
      "v87 meaned 48663 na rows @ 42.6 % nan's\n",
      "v88 meaned 49832 na rows @ 43.6 % nan's\n",
      "v89 meaned 48619 na rows @ 42.5 % nan's\n",
      "v90 meaned 49836 na rows @ 43.6 % nan's\n",
      "v92 meaned 49843 na rows @ 43.6 % nan's\n",
      "v93 meaned 49832 na rows @ 43.6 % nan's\n",
      "v94 meaned 49832 na rows @ 43.6 % nan's\n",
      "v95 meaned 49843 na rows @ 43.6 % nan's\n",
      "v96 meaned 49832 na rows @ 43.6 % nan's\n",
      "v97 meaned 49843 na rows @ 43.6 % nan's\n",
      "v98 meaned 48654 na rows @ 42.6 % nan's\n",
      "v99 meaned 49832 na rows @ 43.6 % nan's\n",
      "v100 meaned 49836 na rows @ 43.6 % nan's\n",
      "v101 meaned 49796 na rows @ 43.6 % nan's\n",
      "v102 meaned 51316 na rows @ 44.9 % nan's\n",
      "v103 meaned 49832 na rows @ 43.6 % nan's\n",
      "v104 meaned 49832 na rows @ 43.6 % nan's\n",
      "v105 meaned 48658 na rows @ 42.6 % nan's\n",
      "v106 meaned 49796 na rows @ 43.6 % nan's\n",
      "v108 meaned 48624 na rows @ 42.5 % nan's\n",
      "v109 meaned 48624 na rows @ 42.5 % nan's\n",
      "v111 meaned 49832 na rows @ 43.6 % nan's\n",
      "v114 meaned 30 na rows @ 0.0 % nan's\n",
      "v115 meaned 49895 na rows @ 43.6 % nan's\n",
      "v116 meaned 49836 na rows @ 43.6 % nan's\n",
      "v117 meaned 48624 na rows @ 42.5 % nan's\n",
      "v118 meaned 49843 na rows @ 43.6 % nan's\n",
      "v119 meaned 50680 na rows @ 44.3 % nan's\n",
      "v120 meaned 49836 na rows @ 43.6 % nan's\n",
      "v121 meaned 49840 na rows @ 43.6 % nan's\n",
      "v122 meaned 49851 na rows @ 43.6 % nan's\n",
      "v123 meaned 50678 na rows @ 44.3 % nan's\n",
      "v124 meaned 48619 na rows @ 42.5 % nan's\n",
      "v126 meaned 49832 na rows @ 43.6 % nan's\n",
      "v127 meaned 49832 na rows @ 43.6 % nan's\n",
      "v128 meaned 48624 na rows @ 42.5 % nan's\n",
      "v130 meaned 49843 na rows @ 43.6 % nan's\n",
      "v131 meaned 49895 na rows @ 43.6 % nan's\n",
      "Value NA Fill Columns: ['v1', 'v2', 'v4', 'v5', 'v6', 'v7', 'v8', 'v9', 'v10', 'v11', 'v12', 'v13', 'v14', 'v15', 'v16', 'v17', 'v18', 'v19', 'v20', 'v23', 'v25', 'v26', 'v27', 'v28', 'v29', 'v32', 'v33', 'v34', 'v35', 'v36', 'v37', 'v39', 'v40', 'v41', 'v42', 'v43', 'v44', 'v45', 'v46', 'v48', 'v49', 'v50', 'v51', 'v53', 'v54', 'v55', 'v57', 'v58', 'v59', 'v60', 'v61', 'v63', 'v64', 'v65', 'v67', 'v68', 'v69', 'v70', 'v73', 'v76', 'v77', 'v78', 'v80', 'v81', 'v82', 'v83', 'v84', 'v85', 'v86', 'v87', 'v88', 'v89', 'v90', 'v92', 'v93', 'v94', 'v95', 'v96', 'v97', 'v98', 'v99', 'v100', 'v101', 'v102', 'v103', 'v104', 'v105', 'v106', 'v108', 'v109', 'v111', 'v114', 'v115', 'v116', 'v117', 'v118', 'v119', 'v120', 'v121', 'v122', 'v123', 'v124', 'v126', 'v127', 'v128', 'v130', 'v131']\n"
     ]
    }
   ],
   "source": [
    "df_new, int_na_fill = eda.na_fill_int(df_new)\n",
    "print 'Value NA Fill Columns:', int_na_fill"
   ]
  },
  {
   "cell_type": "code",
   "execution_count": 9,
   "metadata": {
    "collapsed": false
   },
   "outputs": [
    {
     "name": "stdout",
     "output_type": "stream",
     "text": [
      "v3\n",
      "v24\n",
      "v30\n",
      "v31\n",
      "v38\n",
      "v47\n",
      "v52\n",
      "v56\n",
      "v62\n",
      "v66\n",
      "v71\n",
      "v72\n",
      "v74\n",
      "v75\n",
      "v79\n",
      "v107\n",
      "v110\n",
      "v112\n",
      "v113\n",
      "v125\n",
      "v129\n",
      "Dummy Columns: ['v3', 'v24', 'v30', 'v31', 'v38', 'v47', 'v52', 'v56', 'v62', 'v66', 'v71', 'v72', 'v74', 'v75', 'v79', 'v107', 'v110', 'v112', 'v113', 'v125', 'v129']\n",
      "Dummy v3 ['Cv3' 'Otherv3' 'Av3' 'Bv3']\n",
      "Dummy v24 ['C' 'E' 'D' 'A' 'B']\n",
      "Dummy v30 ['Cv30' 'Otherv30' 'Gv30' 'Dv30' 'Bv30' 'Fv30' 'Av30' 'Ev30']\n",
      "Dummy v31 ['Av31' 'Bv31' 'Otherv31' 'Cv31']\n",
      "Dummy v38 [ 0  4  1  2  6  5  8  3 10  9 12  7]\n",
      "Dummy v47 ['C' 'E' 'I' 'D' 'F' 'G' 'J' 'B' 'A' 'H']\n",
      "Dummy v52 ['Gv52' 'Fv52' 'Hv52' 'Kv52' 'Av52' 'Cv52' 'Ev52' 'Jv52' 'Dv52' 'Iv52'\n",
      " 'Lv52' 'Bv52' 'Otherv52']\n",
      "Dummy v56 ['DIv56' 'DYv56' 'ASv56' 'BWv56' 'Otherv56' 'DXv56' 'DPv56' 'AFv56' 'CYv56'\n",
      " 'AWv56' 'ALv56' 'AZv56' 'Zv56' 'DNv56' 'BQv56' 'BMv56' 'AGv56' 'BJv56'\n",
      " 'BVv56' 'Rv56' 'BLv56' 'CNv56' 'Uv56' 'Nv56' 'Vv56' 'BUv56' 'Pv56' 'DOv56'\n",
      " 'BZv56' 'DLv56' 'DSv56' 'DFv56' 'DHv56' 'DJv56' 'BAv56' 'BSv56' 'BXv56'\n",
      " 'DZv56' 'BKv56' 'COv56' 'CIv56' 'Gv56' 'CCv56' 'DMv56' 'AIv56' 'AKv56'\n",
      " 'DAv56' 'Yv56' 'Av56' 'CMv56' 'DRv56' 'ANv56' 'Hv56' 'CSv56' 'AOv56'\n",
      " 'CFv56' 'ARv56' 'CPv56' 'BDv56' 'BIv56' 'BHv56' 'CHv56' 'BGv56' 'Cv56'\n",
      " 'CAv56' 'APv56' 'AAv56' 'CVv56' 'DGv56' 'DKv56' 'CLv56' 'AHv56' 'DEv56'\n",
      " 'CQv56' 'DQv56' 'BFv56' 'Wv56' 'AVv56' 'AUv56' 'Fv56' 'CBv56' 'AYv56'\n",
      " 'CTv56' 'Bv56' 'BYv56' 'ACv56' 'DUv56' 'ATv56' 'Ev56' 'BCv56' 'CXv56'\n",
      " 'Qv56' 'CWv56' 'BRv56' 'CKv56' 'BEv56' 'DVv56' 'BPv56' 'Iv56' 'CJv56'\n",
      " 'AEv56' 'DTv56' 'AMv56' 'Ov56' 'CZv56' 'DBv56' 'CGv56' 'Xv56' 'AJv56'\n",
      " 'Mv56' 'AXv56' 'DWv56' 'Lv56' 'BNv56' 'CEv56' 'Tv56' 'CDv56' 'ABv56'\n",
      " 'BOv56' 'DDv56' 'BTv56' 'Dv56' 'DCv56']\n",
      "Dummy v62 [1 2 0 3 4 5 6 7]\n",
      "Dummy v66 ['C' 'A' 'B']\n",
      "Dummy v71 ['F' 'B' 'C' 'L' 'I' 'A' 'G' 'K' 'D']\n",
      "Dummy v72 [ 1  2  3  0  4  5  9  6  8  7 10 12 11]\n",
      "Dummy v74 ['B' 'C' 'A']\n",
      "Dummy v75 ['D' 'B' 'C' 'A']\n",
      "Dummy v79 ['E' 'D' 'B' 'C' 'I' 'P' 'A' 'O' 'K' 'M' 'J' 'H' 'F' 'Q' 'R' 'N' 'G' 'L']\n",
      "Dummy v107 ['Ev107' 'Bv107' 'Cv107' 'Dv107' 'Av107' 'Fv107' 'Gv107' 'Otherv107']\n",
      "Dummy v110 ['B' 'A' 'C']\n",
      "Dummy v112 ['Ov112' 'Uv112' 'Sv112' 'Jv112' 'Tv112' 'Dv112' 'Iv112' 'Fv112' 'Lv112'\n",
      " 'Mv112' 'Ev112' 'Hv112' 'Nv112' 'Rv112' 'Pv112' 'Av112' 'Bv112'\n",
      " 'Otherv112' 'Kv112' 'Gv112' 'Cv112' 'Qv112' 'Vv112']\n",
      "Dummy v113 ['Otherv113' 'Gv113' 'Xv113' 'Mv113' 'Pv113' 'Sv113' 'Iv113' 'ACv113'\n",
      " 'Wv113' 'Lv113' 'Bv113' 'AGv113' 'AFv113' 'Vv113' 'Nv113' 'Tv113' 'Uv113'\n",
      " 'AEv113' 'ABv113' 'Cv113' 'AJv113' 'Qv113' 'Av113' 'Rv113' 'Jv113' 'Yv113'\n",
      " 'Ev113' 'Fv113' 'AHv113' 'AIv113' 'Zv113' 'Dv113' 'Ov113' 'ADv113' 'Hv113'\n",
      " 'AKv113' 'AAv113']\n",
      "Dummy v125 ['AUv125' 'AFv125' 'AEv125' 'CJv125' 'Zv125' 'Xv125' 'BJv125' 'BYv125'\n",
      " 'Sv125' 'Ev125' 'ARv125' 'AMv125' 'AQv125' 'AZv125' 'Uv125' 'CDv125'\n",
      " 'BDv125' 'CGv125' 'Jv125' 'Nv125' 'Mv125' 'Pv125' 'ANv125' 'BWv125'\n",
      " 'AKv125' 'BOv125' 'BCv125' 'BMv125' 'Fv125' 'APv125' 'Bv125' 'Lv125'\n",
      " 'Dv125' 'BLv125' 'BUv125' 'Rv125' 'Kv125' 'Wv125' 'Av125' 'CCv125' 'Gv125'\n",
      " 'Vv125' 'ATv125' 'BHv125' 'ACv125' 'BNv125' 'BQv125' 'Yv125' 'AVv125'\n",
      " 'Hv125' 'CKv125' 'Qv125' 'CBv125' 'BXv125' 'BKv125' 'Ov125' 'BEv125'\n",
      " 'CLv125' 'Tv125' 'CEv125' 'BSv125' 'BVv125' 'Cv125' 'ASv125' 'BRv125'\n",
      " 'ALv125' 'AOv125' 'BGv125' 'AGv125' 'BPv125' 'AIv125' 'CAv125' 'CIv125'\n",
      " 'CFv125' 'AHv125' 'Iv125' 'AYv125' 'CHv125' 'ADv125' 'BTv125' 'BIv125'\n",
      " 'AXv125' 'AWv125' 'BFv125' 'AJv125' 'ABv125' 'BBv125' 'AAv125' 'BAv125'\n",
      " 'Otherv125' 'BZv125']\n",
      "Dummy v129 [ 0  2  1  4  3  5  7  6 11  8]\n",
      "\n",
      "Boolean Columns: ['target', 'AGDF', 'YGJ', 'QKI', 'PWR', 'HZE', 'MNZ', 'PTO', 'ROZ', 'YOD', 'GBS']\n",
      "Boolean target [1 0]\n",
      "Boolean AGDF [0 1]\n",
      "Boolean YGJ [0 1]\n",
      "Boolean QKI [0 1]\n",
      "Boolean PWR [0 1]\n",
      "Boolean HZE [0 1]\n",
      "Boolean MNZ [0 1]\n",
      "Boolean PTO [0 1]\n",
      "Boolean ROZ [0 1]\n",
      "Boolean YOD [0 1]\n",
      "Boolean GBS [0 1]\n"
     ]
    }
   ],
   "source": [
    "# CREATE Dummy Columns and insert Boolean values\n",
    "df_newer, dummies, bools = eda.dummy(df_new)\n",
    "\n",
    "print 'Dummy Columns:', dummies\n",
    "for i in dummies:\n",
    "    print \"Dummy\", i, df_new[i].unique()\n",
    "    \n",
    "print \"\"    \n",
    "    \n",
    "print 'Boolean Columns:', bools\n",
    "for i in bools:\n",
    "    print \"Boolean\", i, df_new[i].unique()"
   ]
  },
  {
   "cell_type": "code",
   "execution_count": 10,
   "metadata": {
    "collapsed": false
   },
   "outputs": [
    {
     "data": {
      "text/html": [
       "<div>\n",
       "<table border=\"1\" class=\"dataframe\">\n",
       "  <thead>\n",
       "    <tr style=\"text-align: right;\">\n",
       "      <th></th>\n",
       "      <th>target</th>\n",
       "      <th>v1</th>\n",
       "      <th>v2</th>\n",
       "      <th>v4</th>\n",
       "      <th>v5</th>\n",
       "      <th>v6</th>\n",
       "      <th>v7</th>\n",
       "      <th>v8</th>\n",
       "      <th>v9</th>\n",
       "      <th>v10</th>\n",
       "      <th>...</th>\n",
       "      <th>Zv125v125</th>\n",
       "      <th>0v129</th>\n",
       "      <th>11v129</th>\n",
       "      <th>1v129</th>\n",
       "      <th>2v129</th>\n",
       "      <th>3v129</th>\n",
       "      <th>5v129</th>\n",
       "      <th>6v129</th>\n",
       "      <th>7v129</th>\n",
       "      <th>8v129</th>\n",
       "    </tr>\n",
       "    <tr>\n",
       "      <th>ID</th>\n",
       "      <th></th>\n",
       "      <th></th>\n",
       "      <th></th>\n",
       "      <th></th>\n",
       "      <th></th>\n",
       "      <th></th>\n",
       "      <th></th>\n",
       "      <th></th>\n",
       "      <th></th>\n",
       "      <th></th>\n",
       "      <th></th>\n",
       "      <th></th>\n",
       "      <th></th>\n",
       "      <th></th>\n",
       "      <th></th>\n",
       "      <th></th>\n",
       "      <th></th>\n",
       "      <th></th>\n",
       "      <th></th>\n",
       "      <th></th>\n",
       "      <th></th>\n",
       "    </tr>\n",
       "  </thead>\n",
       "  <tbody>\n",
       "    <tr>\n",
       "      <th>3</th>\n",
       "      <td>1</td>\n",
       "      <td>1.335739</td>\n",
       "      <td>8.727474</td>\n",
       "      <td>3.921026</td>\n",
       "      <td>7.915266</td>\n",
       "      <td>2.599278</td>\n",
       "      <td>3.176895</td>\n",
       "      <td>0.012941</td>\n",
       "      <td>9.999999</td>\n",
       "      <td>0.503281</td>\n",
       "      <td>...</td>\n",
       "      <td>0.0</td>\n",
       "      <td>1.0</td>\n",
       "      <td>0.0</td>\n",
       "      <td>0.0</td>\n",
       "      <td>0.0</td>\n",
       "      <td>0.0</td>\n",
       "      <td>0.0</td>\n",
       "      <td>0.0</td>\n",
       "      <td>0.0</td>\n",
       "      <td>0.0</td>\n",
       "    </tr>\n",
       "    <tr>\n",
       "      <th>4</th>\n",
       "      <td>1</td>\n",
       "      <td>1.630686</td>\n",
       "      <td>7.464411</td>\n",
       "      <td>4.145098</td>\n",
       "      <td>9.191265</td>\n",
       "      <td>2.436402</td>\n",
       "      <td>2.483921</td>\n",
       "      <td>2.301630</td>\n",
       "      <td>9.031859</td>\n",
       "      <td>1.312910</td>\n",
       "      <td>...</td>\n",
       "      <td>0.0</td>\n",
       "      <td>1.0</td>\n",
       "      <td>0.0</td>\n",
       "      <td>0.0</td>\n",
       "      <td>0.0</td>\n",
       "      <td>0.0</td>\n",
       "      <td>0.0</td>\n",
       "      <td>0.0</td>\n",
       "      <td>0.0</td>\n",
       "      <td>0.0</td>\n",
       "    </tr>\n",
       "    <tr>\n",
       "      <th>5</th>\n",
       "      <td>1</td>\n",
       "      <td>0.943877</td>\n",
       "      <td>5.310079</td>\n",
       "      <td>4.410969</td>\n",
       "      <td>5.326159</td>\n",
       "      <td>3.979592</td>\n",
       "      <td>3.928571</td>\n",
       "      <td>0.019645</td>\n",
       "      <td>12.666667</td>\n",
       "      <td>0.765864</td>\n",
       "      <td>...</td>\n",
       "      <td>0.0</td>\n",
       "      <td>0.0</td>\n",
       "      <td>0.0</td>\n",
       "      <td>0.0</td>\n",
       "      <td>1.0</td>\n",
       "      <td>0.0</td>\n",
       "      <td>0.0</td>\n",
       "      <td>0.0</td>\n",
       "      <td>0.0</td>\n",
       "      <td>0.0</td>\n",
       "    </tr>\n",
       "    <tr>\n",
       "      <th>6</th>\n",
       "      <td>1</td>\n",
       "      <td>0.797415</td>\n",
       "      <td>8.304757</td>\n",
       "      <td>4.225930</td>\n",
       "      <td>11.627438</td>\n",
       "      <td>2.097700</td>\n",
       "      <td>1.987549</td>\n",
       "      <td>0.171947</td>\n",
       "      <td>8.965516</td>\n",
       "      <td>6.542669</td>\n",
       "      <td>...</td>\n",
       "      <td>0.0</td>\n",
       "      <td>0.0</td>\n",
       "      <td>0.0</td>\n",
       "      <td>1.0</td>\n",
       "      <td>0.0</td>\n",
       "      <td>0.0</td>\n",
       "      <td>0.0</td>\n",
       "      <td>0.0</td>\n",
       "      <td>0.0</td>\n",
       "      <td>0.0</td>\n",
       "    </tr>\n",
       "    <tr>\n",
       "      <th>8</th>\n",
       "      <td>1</td>\n",
       "      <td>1.630686</td>\n",
       "      <td>7.464411</td>\n",
       "      <td>4.145098</td>\n",
       "      <td>8.742359</td>\n",
       "      <td>2.436402</td>\n",
       "      <td>2.483921</td>\n",
       "      <td>1.496569</td>\n",
       "      <td>9.031859</td>\n",
       "      <td>1.050328</td>\n",
       "      <td>...</td>\n",
       "      <td>1.0</td>\n",
       "      <td>1.0</td>\n",
       "      <td>0.0</td>\n",
       "      <td>0.0</td>\n",
       "      <td>0.0</td>\n",
       "      <td>0.0</td>\n",
       "      <td>0.0</td>\n",
       "      <td>0.0</td>\n",
       "      <td>0.0</td>\n",
       "      <td>0.0</td>\n",
       "    </tr>\n",
       "  </tbody>\n",
       "</table>\n",
       "<p>5 rows × 506 columns</p>\n",
       "</div>"
      ],
      "text/plain": [
       "    target        v1        v2        v4         v5        v6        v7  \\\n",
       "ID                                                                        \n",
       "3        1  1.335739  8.727474  3.921026   7.915266  2.599278  3.176895   \n",
       "4        1  1.630686  7.464411  4.145098   9.191265  2.436402  2.483921   \n",
       "5        1  0.943877  5.310079  4.410969   5.326159  3.979592  3.928571   \n",
       "6        1  0.797415  8.304757  4.225930  11.627438  2.097700  1.987549   \n",
       "8        1  1.630686  7.464411  4.145098   8.742359  2.436402  2.483921   \n",
       "\n",
       "          v8         v9       v10  ...    Zv125v125  0v129  11v129  1v129  \\\n",
       "ID                                 ...                                      \n",
       "3   0.012941   9.999999  0.503281  ...          0.0    1.0     0.0    0.0   \n",
       "4   2.301630   9.031859  1.312910  ...          0.0    1.0     0.0    0.0   \n",
       "5   0.019645  12.666667  0.765864  ...          0.0    0.0     0.0    0.0   \n",
       "6   0.171947   8.965516  6.542669  ...          0.0    0.0     0.0    1.0   \n",
       "8   1.496569   9.031859  1.050328  ...          1.0    1.0     0.0    0.0   \n",
       "\n",
       "    2v129  3v129  5v129  6v129  7v129  8v129  \n",
       "ID                                            \n",
       "3     0.0    0.0    0.0    0.0    0.0    0.0  \n",
       "4     0.0    0.0    0.0    0.0    0.0    0.0  \n",
       "5     1.0    0.0    0.0    0.0    0.0    0.0  \n",
       "6     0.0    0.0    0.0    0.0    0.0    0.0  \n",
       "8     0.0    0.0    0.0    0.0    0.0    0.0  \n",
       "\n",
       "[5 rows x 506 columns]"
      ]
     },
     "execution_count": 10,
     "metadata": {},
     "output_type": "execute_result"
    }
   ],
   "source": [
    "df_newer['target'] = 1 * (df_newer['target'] == 1)\n",
    "df_newer.head()"
   ]
  },
  {
   "cell_type": "markdown",
   "metadata": {},
   "source": [
    "### Function to drop highly correlated columns from features"
   ]
  },
  {
   "cell_type": "code",
   "execution_count": 13,
   "metadata": {
    "collapsed": false
   },
   "outputs": [],
   "source": [
    "def corr_df(df, corr_val):\n",
    "    \n",
    "    corr_matrix = df.corr()\n",
    "    iters = xrange(len(corr_matrix.columns) - 1)\n",
    "    drop_cols = []\n",
    "    \n",
    "    for i in iters:\n",
    "        for j in xrange(i):\n",
    "            item = corr_matrix.iloc[j:(j+1), (i+1):(i+2)]\n",
    "            col = item.columns\n",
    "            row = item.index\n",
    "            val = item.values\n",
    "            if val > corr_val:\n",
    "                print col.values[0], \"|\", row.values[0], \"|\", round(val[0][0],2)\n",
    "                drop_cols.append(i)\n",
    "    \n",
    "    drops = sorted(set(drop_cols))[::-1]\n",
    "#     print drops\n",
    "    print len(drops)\n",
    "    \n",
    "    for i in drops:\n",
    "        col = df.iloc[:, (i+1):(i+2)].columns.values\n",
    "        df = df.drop(col, axis=1)\n",
    "    \n",
    "    return df, drops"
   ]
  },
  {
   "cell_type": "code",
   "execution_count": 21,
   "metadata": {
    "collapsed": false
   },
   "outputs": [
    {
     "name": "stdout",
     "output_type": "stream",
     "text": [
      "co1 1 | col 2 | corr\n",
      "v46 | v8 | 0.98\n",
      "v46 | v25 | 0.98\n",
      "v53 | v11 | 0.96\n",
      "v54 | v25 | 0.97\n",
      "v60 | v26 | 0.98\n",
      "v63 | v8 | 0.98\n",
      "v63 | v25 | 0.98\n",
      "v63 | v46 | 0.99\n",
      "v64 | v17 | 0.98\n",
      "v76 | v17 | 0.99\n",
      "v76 | v64 | 0.95\n",
      "v83 | v33 | 0.96\n",
      "v89 | v25 | 0.96\n",
      "v89 | v54 | 0.96\n",
      "v95 | v92 | 0.98\n",
      "v96 | v29 | 0.96\n",
      "v96 | v41 | 0.95\n",
      "v105 | v25 | 0.96\n",
      "v116 | v43 | 0.98\n",
      "v118 | v97 | 0.96\n",
      "v121 | v83 | 0.97\n",
      "v128 | v108 | 0.96\n",
      "Dv47 | Otherv31v31 | 0.95\n",
      "AXv56v56 | Hv47 | 1.0\n",
      "0v72 | Otherv31v31 | 0.98\n",
      "0v72 | Dv47 | 0.97\n",
      "Dv75 | Fv71 | 1.0\n",
      "Dv79 | Ev47 | 1.0\n",
      "Kv79 | Fv47 | 1.0\n",
      "Rv79 | Bv47 | 1.0\n",
      "Otherv107v107 | Otherv52v52 | 1.0\n",
      "Bv110 | Cv47 | 1.0\n",
      "AEv125v125 | Sv112v112 | 1.0\n",
      "AZv125v125 | AGDF | 0.99\n",
      "27\n"
     ]
    }
   ],
   "source": [
    "print \"co1 1 | col 2 | corr\"\n",
    "df_new_new, drops = corr_df(df_newer, 0.95)"
   ]
  },
  {
   "cell_type": "code",
   "execution_count": 25,
   "metadata": {
    "collapsed": false
   },
   "outputs": [
    {
     "name": "stdout",
     "output_type": "stream",
     "text": [
      "[431, 410, 347, 345, 338, 331, 324, 321, 305, 187, 148, 104, 98, 95, 93, 86, 77, 76, 71, 65, 59, 52, 51, 49, 44, 43, 38]\n"
     ]
    }
   ],
   "source": [
    "#print df_new_new.head\n",
    "print drops"
   ]
  },
  {
   "cell_type": "code",
   "execution_count": 138,
   "metadata": {
    "collapsed": false
   },
   "outputs": [],
   "source": [
    "x = df_new_new.drop('target', axis=1)\n",
    "x = sm.add_constant(x)\n",
    "y = df_newer.target"
   ]
  },
  {
   "cell_type": "code",
   "execution_count": 139,
   "metadata": {
    "collapsed": true
   },
   "outputs": [],
   "source": [
    "from sklearn.linear_model import Lasso\n",
    "lasso = Lasso(alpha=0.001)"
   ]
  },
  {
   "cell_type": "code",
   "execution_count": 140,
   "metadata": {
    "collapsed": false
   },
   "outputs": [],
   "source": [
    "lasso_fit = lasso.fit(x, y)"
   ]
  },
  {
   "cell_type": "code",
   "execution_count": 141,
   "metadata": {
    "collapsed": false
   },
   "outputs": [],
   "source": [
    "use_columns = pd.DataFrame(x.columns)\n",
    "use_columns[1] = lasso_fit.coef_\n",
    "use_columns = use_columns[use_columns[1]!=0]\n",
    "top_columns = use_columns[0].tolist()\n",
    "x_new = x[top_columns]"
   ]
  },
  {
   "cell_type": "code",
   "execution_count": 142,
   "metadata": {
    "collapsed": false
   },
   "outputs": [
    {
     "data": {
      "text/plain": [
       "array([  0.00000000e+00,   0.00000000e+00,  -0.00000000e+00,\n",
       "         0.00000000e+00,   0.00000000e+00,   1.97514266e-03,\n",
       "         0.00000000e+00,   0.00000000e+00,   4.19863509e-04,\n",
       "         0.00000000e+00,   0.00000000e+00,   0.00000000e+00,\n",
       "        -0.00000000e+00,   9.11708486e-03,  -0.00000000e+00,\n",
       "        -0.00000000e+00,  -3.21639664e-04,   0.00000000e+00,\n",
       "         0.00000000e+00,  -3.71861169e-03,   0.00000000e+00,\n",
       "         0.00000000e+00,  -0.00000000e+00,   0.00000000e+00,\n",
       "        -0.00000000e+00,  -0.00000000e+00,  -0.00000000e+00,\n",
       "         0.00000000e+00,  -0.00000000e+00,   0.00000000e+00,\n",
       "        -0.00000000e+00,  -0.00000000e+00,   0.00000000e+00,\n",
       "         3.90838112e-04,   0.00000000e+00,   0.00000000e+00,\n",
       "        -0.00000000e+00,  -0.00000000e+00,  -7.90976660e-04,\n",
       "         0.00000000e+00,   0.00000000e+00,   7.37632330e-02,\n",
       "        -0.00000000e+00,  -0.00000000e+00,   0.00000000e+00,\n",
       "        -0.00000000e+00,   2.39036290e-03,  -0.00000000e+00,\n",
       "        -0.00000000e+00,  -0.00000000e+00,  -0.00000000e+00,\n",
       "        -0.00000000e+00,   5.86981327e-04,  -0.00000000e+00,\n",
       "        -0.00000000e+00,  -0.00000000e+00,   3.78078480e-04,\n",
       "        -0.00000000e+00,   4.14374490e-04,   0.00000000e+00,\n",
       "        -1.27427778e-03,  -0.00000000e+00,   0.00000000e+00,\n",
       "         0.00000000e+00,   0.00000000e+00,   0.00000000e+00,\n",
       "         0.00000000e+00,   0.00000000e+00,  -0.00000000e+00,\n",
       "         9.56558490e-04,   0.00000000e+00,   1.25324039e-04,\n",
       "         0.00000000e+00,   5.91919596e-04,   0.00000000e+00,\n",
       "        -0.00000000e+00,  -4.27286080e-04,   0.00000000e+00,\n",
       "         8.85722894e-04,   2.45892406e-04,   0.00000000e+00,\n",
       "         0.00000000e+00,  -4.37622250e-04,  -2.24841714e-03,\n",
       "        -0.00000000e+00,  -0.00000000e+00,  -0.00000000e+00,\n",
       "        -0.00000000e+00,   0.00000000e+00,  -0.00000000e+00,\n",
       "         0.00000000e+00,   1.68806956e-03,   0.00000000e+00,\n",
       "         0.00000000e+00,  -0.00000000e+00,   0.00000000e+00,\n",
       "        -0.00000000e+00,  -0.00000000e+00,  -0.00000000e+00,\n",
       "        -0.00000000e+00,   0.00000000e+00,  -0.00000000e+00,\n",
       "         0.00000000e+00,  -0.00000000e+00,  -0.00000000e+00,\n",
       "        -5.09038325e-03,  -1.45727770e-02,  -0.00000000e+00,\n",
       "        -2.87627397e-02,  -0.00000000e+00,   0.00000000e+00,\n",
       "        -2.07364953e-03,   0.00000000e+00,   0.00000000e+00,\n",
       "        -0.00000000e+00,  -1.06918909e-02,  -0.00000000e+00,\n",
       "         0.00000000e+00,   0.00000000e+00,  -3.33646277e-02,\n",
       "        -0.00000000e+00,   0.00000000e+00,   0.00000000e+00,\n",
       "         0.00000000e+00,   0.00000000e+00,   0.00000000e+00,\n",
       "         0.00000000e+00,   0.00000000e+00,   0.00000000e+00,\n",
       "         0.00000000e+00,  -0.00000000e+00,   0.00000000e+00,\n",
       "         1.01194808e-01,  -1.27063261e-02,  -0.00000000e+00,\n",
       "         0.00000000e+00,   5.49725156e-03,  -0.00000000e+00,\n",
       "         0.00000000e+00,   0.00000000e+00,  -0.00000000e+00,\n",
       "        -0.00000000e+00,  -0.00000000e+00,  -0.00000000e+00,\n",
       "        -0.00000000e+00,   0.00000000e+00,  -0.00000000e+00,\n",
       "         0.00000000e+00,   0.00000000e+00,   0.00000000e+00,\n",
       "         0.00000000e+00,   0.00000000e+00,   0.00000000e+00,\n",
       "        -0.00000000e+00,  -0.00000000e+00,   0.00000000e+00,\n",
       "        -0.00000000e+00,   0.00000000e+00,   0.00000000e+00,\n",
       "         0.00000000e+00,  -0.00000000e+00,  -0.00000000e+00,\n",
       "        -0.00000000e+00,   0.00000000e+00,   0.00000000e+00,\n",
       "         0.00000000e+00,   0.00000000e+00,   0.00000000e+00,\n",
       "         0.00000000e+00,  -0.00000000e+00,   0.00000000e+00,\n",
       "        -0.00000000e+00,   0.00000000e+00,   0.00000000e+00,\n",
       "         0.00000000e+00,  -0.00000000e+00,   0.00000000e+00,\n",
       "        -0.00000000e+00,  -0.00000000e+00,   0.00000000e+00,\n",
       "         0.00000000e+00,  -0.00000000e+00,   0.00000000e+00,\n",
       "         0.00000000e+00,  -0.00000000e+00,   0.00000000e+00,\n",
       "        -0.00000000e+00,   0.00000000e+00,   0.00000000e+00,\n",
       "        -0.00000000e+00,   0.00000000e+00,   0.00000000e+00,\n",
       "        -0.00000000e+00,   0.00000000e+00,  -0.00000000e+00,\n",
       "        -6.55213672e-03,   0.00000000e+00,   0.00000000e+00,\n",
       "         0.00000000e+00,   0.00000000e+00,  -0.00000000e+00,\n",
       "         0.00000000e+00,  -0.00000000e+00,   0.00000000e+00,\n",
       "         0.00000000e+00,   0.00000000e+00,  -0.00000000e+00,\n",
       "         0.00000000e+00,  -0.00000000e+00,   0.00000000e+00,\n",
       "         0.00000000e+00,  -0.00000000e+00,  -0.00000000e+00,\n",
       "         0.00000000e+00,   0.00000000e+00,  -0.00000000e+00,\n",
       "         0.00000000e+00,   0.00000000e+00,   0.00000000e+00,\n",
       "        -0.00000000e+00,   0.00000000e+00,   6.31250727e-02,\n",
       "         0.00000000e+00,   0.00000000e+00,  -0.00000000e+00,\n",
       "         0.00000000e+00,   0.00000000e+00,   0.00000000e+00,\n",
       "        -0.00000000e+00,  -0.00000000e+00,   0.00000000e+00,\n",
       "         0.00000000e+00,  -1.62135983e-02,  -0.00000000e+00,\n",
       "         0.00000000e+00,   0.00000000e+00,   0.00000000e+00,\n",
       "         0.00000000e+00,  -2.57278219e-02,   0.00000000e+00,\n",
       "        -0.00000000e+00,   0.00000000e+00,   0.00000000e+00,\n",
       "         0.00000000e+00,  -0.00000000e+00,   0.00000000e+00,\n",
       "        -0.00000000e+00,  -0.00000000e+00,  -0.00000000e+00,\n",
       "         0.00000000e+00,   0.00000000e+00,   0.00000000e+00,\n",
       "         0.00000000e+00,  -0.00000000e+00,   0.00000000e+00,\n",
       "         0.00000000e+00,  -0.00000000e+00,   0.00000000e+00,\n",
       "         0.00000000e+00,  -1.60613169e-02,   0.00000000e+00,\n",
       "        -7.87593041e-02,   0.00000000e+00,   0.00000000e+00,\n",
       "         0.00000000e+00,  -0.00000000e+00,   0.00000000e+00,\n",
       "        -0.00000000e+00,   0.00000000e+00,  -0.00000000e+00,\n",
       "         0.00000000e+00,   0.00000000e+00,   0.00000000e+00,\n",
       "        -0.00000000e+00,   0.00000000e+00,  -0.00000000e+00,\n",
       "         0.00000000e+00,   0.00000000e+00,   4.31117913e-02,\n",
       "         1.46958940e-01,  -0.00000000e+00,  -0.00000000e+00,\n",
       "         0.00000000e+00,   1.08189896e-04,   0.00000000e+00,\n",
       "        -0.00000000e+00,   0.00000000e+00,   0.00000000e+00,\n",
       "         0.00000000e+00,  -0.00000000e+00,  -0.00000000e+00,\n",
       "        -0.00000000e+00,   0.00000000e+00,   0.00000000e+00,\n",
       "         0.00000000e+00,   0.00000000e+00,   0.00000000e+00,\n",
       "         0.00000000e+00,   0.00000000e+00,  -0.00000000e+00,\n",
       "         0.00000000e+00,  -0.00000000e+00,  -0.00000000e+00,\n",
       "         0.00000000e+00,   0.00000000e+00,  -8.80439684e-04,\n",
       "        -0.00000000e+00,  -0.00000000e+00,   0.00000000e+00,\n",
       "        -0.00000000e+00,   0.00000000e+00,  -0.00000000e+00,\n",
       "        -0.00000000e+00,   0.00000000e+00,   2.76915734e-02,\n",
       "        -0.00000000e+00,  -0.00000000e+00,   0.00000000e+00,\n",
       "        -0.00000000e+00,  -0.00000000e+00,   0.00000000e+00,\n",
       "         0.00000000e+00,   0.00000000e+00,  -3.34111468e-03,\n",
       "        -0.00000000e+00,  -0.00000000e+00,   0.00000000e+00,\n",
       "         0.00000000e+00,  -1.16260292e-02,   0.00000000e+00,\n",
       "         0.00000000e+00,   0.00000000e+00,  -0.00000000e+00,\n",
       "        -0.00000000e+00,   0.00000000e+00,  -0.00000000e+00,\n",
       "         0.00000000e+00,  -0.00000000e+00,   0.00000000e+00,\n",
       "        -0.00000000e+00,  -0.00000000e+00,  -0.00000000e+00,\n",
       "         0.00000000e+00,   0.00000000e+00,   0.00000000e+00,\n",
       "        -0.00000000e+00,   0.00000000e+00,  -0.00000000e+00,\n",
       "        -0.00000000e+00,  -0.00000000e+00,  -0.00000000e+00,\n",
       "         0.00000000e+00,  -0.00000000e+00,   0.00000000e+00,\n",
       "        -0.00000000e+00,  -0.00000000e+00,   0.00000000e+00,\n",
       "        -0.00000000e+00,   0.00000000e+00,   0.00000000e+00,\n",
       "        -0.00000000e+00,   0.00000000e+00,   0.00000000e+00,\n",
       "         2.57463775e-03,   0.00000000e+00,   0.00000000e+00,\n",
       "         0.00000000e+00,   0.00000000e+00,   1.60549105e-02,\n",
       "         0.00000000e+00,  -6.49002100e-03,   0.00000000e+00,\n",
       "        -0.00000000e+00,   0.00000000e+00,   0.00000000e+00,\n",
       "        -0.00000000e+00,   0.00000000e+00,   0.00000000e+00,\n",
       "        -0.00000000e+00,  -0.00000000e+00,  -0.00000000e+00,\n",
       "         0.00000000e+00,   0.00000000e+00,   0.00000000e+00,\n",
       "        -0.00000000e+00,   0.00000000e+00,   0.00000000e+00,\n",
       "         0.00000000e+00,   0.00000000e+00,  -0.00000000e+00,\n",
       "        -0.00000000e+00,   0.00000000e+00,   0.00000000e+00,\n",
       "        -0.00000000e+00,   0.00000000e+00,  -0.00000000e+00,\n",
       "        -0.00000000e+00,  -0.00000000e+00,  -0.00000000e+00,\n",
       "        -0.00000000e+00,   0.00000000e+00,   0.00000000e+00,\n",
       "        -0.00000000e+00,  -0.00000000e+00,  -0.00000000e+00,\n",
       "         0.00000000e+00,  -0.00000000e+00,   0.00000000e+00,\n",
       "         0.00000000e+00,  -0.00000000e+00,   0.00000000e+00,\n",
       "         0.00000000e+00,   0.00000000e+00,   0.00000000e+00,\n",
       "         0.00000000e+00,   0.00000000e+00,  -0.00000000e+00,\n",
       "         0.00000000e+00,  -0.00000000e+00,  -0.00000000e+00,\n",
       "         0.00000000e+00,   0.00000000e+00,   0.00000000e+00,\n",
       "        -0.00000000e+00,  -0.00000000e+00,   0.00000000e+00,\n",
       "         0.00000000e+00,  -0.00000000e+00,  -0.00000000e+00,\n",
       "         0.00000000e+00,  -0.00000000e+00,  -0.00000000e+00,\n",
       "        -0.00000000e+00,   0.00000000e+00,   0.00000000e+00,\n",
       "        -0.00000000e+00,   0.00000000e+00,  -0.00000000e+00,\n",
       "        -0.00000000e+00,  -0.00000000e+00,  -0.00000000e+00,\n",
       "         0.00000000e+00,  -0.00000000e+00,   0.00000000e+00,\n",
       "         0.00000000e+00,   0.00000000e+00,  -0.00000000e+00,\n",
       "        -0.00000000e+00,  -0.00000000e+00,  -0.00000000e+00,\n",
       "        -0.00000000e+00,   0.00000000e+00,  -0.00000000e+00,\n",
       "         0.00000000e+00,  -0.00000000e+00,   0.00000000e+00,\n",
       "        -0.00000000e+00,  -0.00000000e+00,   0.00000000e+00,\n",
       "        -0.00000000e+00,   0.00000000e+00,   0.00000000e+00,\n",
       "        -0.00000000e+00,  -0.00000000e+00,   0.00000000e+00,\n",
       "        -0.00000000e+00,  -0.00000000e+00,   0.00000000e+00,\n",
       "         0.00000000e+00,   0.00000000e+00,  -2.02004205e-02,\n",
       "        -0.00000000e+00,  -0.00000000e+00,   0.00000000e+00,\n",
       "         0.00000000e+00,  -0.00000000e+00,   0.00000000e+00,\n",
       "         0.00000000e+00,  -0.00000000e+00])"
      ]
     },
     "execution_count": 142,
     "metadata": {},
     "output_type": "execute_result"
    }
   ],
   "source": [
    "lasso_fit.coef_"
   ]
  },
  {
   "cell_type": "code",
   "execution_count": 143,
   "metadata": {
    "collapsed": true
   },
   "outputs": [],
   "source": [
    "lasso_fit_opt = lasso.fit(x_new, y)"
   ]
  },
  {
   "cell_type": "code",
   "execution_count": 144,
   "metadata": {
    "collapsed": false
   },
   "outputs": [],
   "source": [
    "probas = lasso_fit_opt.predict(x_new)\n",
    "ids = df_newer.index.values"
   ]
  },
  {
   "cell_type": "code",
   "execution_count": 145,
   "metadata": {
    "collapsed": false
   },
   "outputs": [
    {
     "data": {
      "text/html": [
       "<div>\n",
       "<table border=\"1\" class=\"dataframe\">\n",
       "  <thead>\n",
       "    <tr style=\"text-align: right;\">\n",
       "      <th></th>\n",
       "      <th>0</th>\n",
       "      <th>1</th>\n",
       "    </tr>\n",
       "  </thead>\n",
       "  <tbody>\n",
       "    <tr>\n",
       "      <th>0</th>\n",
       "      <td>3.0</td>\n",
       "      <td>0.854412</td>\n",
       "    </tr>\n",
       "    <tr>\n",
       "      <th>1</th>\n",
       "      <td>4.0</td>\n",
       "      <td>0.685940</td>\n",
       "    </tr>\n",
       "    <tr>\n",
       "      <th>2</th>\n",
       "      <td>5.0</td>\n",
       "      <td>0.741327</td>\n",
       "    </tr>\n",
       "    <tr>\n",
       "      <th>3</th>\n",
       "      <td>6.0</td>\n",
       "      <td>0.954064</td>\n",
       "    </tr>\n",
       "    <tr>\n",
       "      <th>4</th>\n",
       "      <td>8.0</td>\n",
       "      <td>0.774263</td>\n",
       "    </tr>\n",
       "  </tbody>\n",
       "</table>\n",
       "</div>"
      ],
      "text/plain": [
       "     0         1\n",
       "0  3.0  0.854412\n",
       "1  4.0  0.685940\n",
       "2  5.0  0.741327\n",
       "3  6.0  0.954064\n",
       "4  8.0  0.774263"
      ]
     },
     "execution_count": 145,
     "metadata": {},
     "output_type": "execute_result"
    }
   ],
   "source": [
    "results = pd.DataFrame(np.vstack((ids, probas)).T)\n",
    "results.head()"
   ]
  },
  {
   "cell_type": "markdown",
   "metadata": {},
   "source": [
    "#### Accuracy Rating"
   ]
  },
  {
   "cell_type": "code",
   "execution_count": 146,
   "metadata": {
    "collapsed": false
   },
   "outputs": [
    {
     "data": {
      "text/plain": [
       "114321"
      ]
     },
     "execution_count": 146,
     "metadata": {},
     "output_type": "execute_result"
    }
   ],
   "source": [
    "len(x)"
   ]
  },
  {
   "cell_type": "code",
   "execution_count": 147,
   "metadata": {
    "collapsed": false
   },
   "outputs": [
    {
     "data": {
      "text/plain": [
       "0.76472389149849984"
      ]
     },
     "execution_count": 147,
     "metadata": {},
     "output_type": "execute_result"
    }
   ],
   "source": [
    "from sklearn.metrics import accuracy_score\n",
    "accuracy_score(df_newer.target,np.around(probas))"
   ]
  },
  {
   "cell_type": "code",
   "execution_count": 148,
   "metadata": {
    "collapsed": false
   },
   "outputs": [
    {
     "data": {
      "text/plain": [
       "0.7611987298921458"
      ]
     },
     "execution_count": 148,
     "metadata": {},
     "output_type": "execute_result"
    }
   ],
   "source": [
    "np.mean(y)"
   ]
  },
  {
   "cell_type": "markdown",
   "metadata": {},
   "source": [
    "### Transform Test Data"
   ]
  },
  {
   "cell_type": "code",
   "execution_count": 158,
   "metadata": {
    "collapsed": true
   },
   "outputs": [],
   "source": [
    "test = pd.read_csv('test.csv', index_col='ID')"
   ]
  },
  {
   "cell_type": "code",
   "execution_count": 159,
   "metadata": {
    "collapsed": true
   },
   "outputs": [],
   "source": [
    "# 21 perfectly correlated w/ variable in v3\n",
    "test = test.drop('v21', axis=1)\n",
    "# v91 perfectly correlated with v107 (check this later)\n",
    "test = test.drop('v91', axis=1)\n",
    "\n",
    "# Pick best values from large dummies\n",
    "best_vals = test['v22'].value_counts()[:10].index.values\n",
    "\n",
    "for val in best_vals:\n",
    "    test[val] = 1 * (test['v22'] == val) \n",
    "\n",
    "test = test.drop('v22', axis=1)    "
   ]
  },
  {
   "cell_type": "code",
   "execution_count": 160,
   "metadata": {
    "collapsed": true
   },
   "outputs": [],
   "source": [
    "test['v3'] = test['v3'].fillna('Other')"
   ]
  },
  {
   "cell_type": "code",
   "execution_count": 161,
   "metadata": {
    "collapsed": false
   },
   "outputs": [
    {
     "name": "stdout",
     "output_type": "stream",
     "text": [
      "v30 Other 60342 na rows @ 93.5 % nan's\n",
      "v31 Other 3492 na rows @ 5.4 % nan's\n",
      "v52 Other 2 na rows @ 0.0 % nan's\n",
      "v56 Other 6918 na rows @ 10.7 % nan's\n",
      "v107 Other 2 na rows @ 0.0 % nan's\n",
      "v112 Other 413 na rows @ 0.6 % nan's\n",
      "v113 Other 55358 na rows @ 85.8 % nan's\n",
      "v125 Other 84 na rows @ 0.1 % nan's\n",
      "String NA Fill Columns: ['v30', 'v31', 'v52', 'v56', 'v107', 'v112', 'v113', 'v125']\n"
     ]
    }
   ],
   "source": [
    "test_new, str_na_fill = eda.na_fill_str(test)\n",
    "print 'String NA Fill Columns:', str_na_fill"
   ]
  },
  {
   "cell_type": "code",
   "execution_count": 162,
   "metadata": {
    "collapsed": false
   },
   "outputs": [
    {
     "name": "stdout",
     "output_type": "stream",
     "text": [
      "v1 meaned 49879 na rows @ 77.3 % nan's\n",
      "v2 meaned 49839 na rows @ 77.3 % nan's\n",
      "v4 meaned 49839 na rows @ 77.3 % nan's\n",
      "v5 meaned 48642 na rows @ 75.4 % nan's\n",
      "v6 meaned 49879 na rows @ 77.3 % nan's\n",
      "v7 meaned 49879 na rows @ 77.3 % nan's\n",
      "v8 meaned 48636 na rows @ 75.4 % nan's\n",
      "v9 meaned 49886 na rows @ 77.3 % nan's\n",
      "v10 meaned 82 na rows @ 0.1 % nan's\n",
      "v11 meaned 49881 na rows @ 77.3 % nan's\n",
      "v12 meaned 84 na rows @ 0.1 % nan's\n",
      "v13 meaned 49879 na rows @ 77.3 % nan's\n",
      "v14 meaned 2 na rows @ 0.0 % nan's\n",
      "v15 meaned 49881 na rows @ 77.3 % nan's\n",
      "v16 meaned 49944 na rows @ 77.4 % nan's\n",
      "v17 meaned 49839 na rows @ 77.3 % nan's\n",
      "v18 meaned 49879 na rows @ 77.3 % nan's\n",
      "v19 meaned 49887 na rows @ 77.3 % nan's\n",
      "v20 meaned 49882 na rows @ 77.3 % nan's\n",
      "v23 meaned 50713 na rows @ 78.6 % nan's\n",
      "v25 meaned 48636 na rows @ 75.4 % nan's\n",
      "v26 meaned 49879 na rows @ 77.3 % nan's\n",
      "v27 meaned 49879 na rows @ 77.3 % nan's\n",
      "v28 meaned 49879 na rows @ 77.3 % nan's\n",
      "v29 meaned 49879 na rows @ 77.3 % nan's\n",
      "v32 meaned 49879 na rows @ 77.3 % nan's\n",
      "v33 meaned 49879 na rows @ 77.3 % nan's\n",
      "v34 meaned 104 na rows @ 0.2 % nan's\n",
      "v35 meaned 49879 na rows @ 77.3 % nan's\n",
      "v36 meaned 48642 na rows @ 75.4 % nan's\n",
      "v37 meaned 49887 na rows @ 77.3 % nan's\n",
      "v39 meaned 49880 na rows @ 77.3 % nan's\n",
      "v40 meaned 104 na rows @ 0.2 % nan's\n",
      "v41 meaned 49879 na rows @ 77.3 % nan's\n",
      "v42 meaned 49879 na rows @ 77.3 % nan's\n",
      "v43 meaned 49881 na rows @ 77.3 % nan's\n",
      "v44 meaned 49839 na rows @ 77.3 % nan's\n",
      "v45 meaned 49879 na rows @ 77.3 % nan's\n",
      "v46 meaned 48636 na rows @ 75.4 % nan's\n",
      "v48 meaned 49839 na rows @ 77.3 % nan's\n",
      "v49 meaned 49879 na rows @ 77.3 % nan's\n",
      "v50 meaned 84 na rows @ 0.1 % nan's\n",
      "v51 meaned 50717 na rows @ 78.6 % nan's\n",
      "v53 meaned 49881 na rows @ 77.3 % nan's\n",
      "v54 meaned 48636 na rows @ 75.4 % nan's\n",
      "v55 meaned 49879 na rows @ 77.3 % nan's\n",
      "v57 meaned 49879 na rows @ 77.3 % nan's\n",
      "v58 meaned 49880 na rows @ 77.3 % nan's\n",
      "v59 meaned 49839 na rows @ 77.3 % nan's\n",
      "v60 meaned 49879 na rows @ 77.3 % nan's\n",
      "v61 meaned 49839 na rows @ 77.3 % nan's\n",
      "v63 meaned 48636 na rows @ 75.4 % nan's\n",
      "v64 meaned 49839 na rows @ 77.3 % nan's\n",
      "v65 meaned 49882 na rows @ 77.3 % nan's\n",
      "v67 meaned 49879 na rows @ 77.3 % nan's\n",
      "v68 meaned 49880 na rows @ 77.3 % nan's\n",
      "v69 meaned 49944 na rows @ 77.4 % nan's\n",
      "v70 meaned 48647 na rows @ 75.4 % nan's\n",
      "v73 meaned 49881 na rows @ 77.3 % nan's\n",
      "v76 meaned 49839 na rows @ 77.3 % nan's\n",
      "v77 meaned 49879 na rows @ 77.3 % nan's\n",
      "v78 meaned 49944 na rows @ 77.4 % nan's\n",
      "v80 meaned 49886 na rows @ 77.3 % nan's\n",
      "v81 meaned 48642 na rows @ 75.4 % nan's\n",
      "v82 meaned 48642 na rows @ 75.4 % nan's\n",
      "v83 meaned 49879 na rows @ 77.3 % nan's\n",
      "v84 meaned 49879 na rows @ 77.3 % nan's\n",
      "v85 meaned 50717 na rows @ 78.6 % nan's\n",
      "v86 meaned 49879 na rows @ 77.3 % nan's\n",
      "v87 meaned 48671 na rows @ 75.4 % nan's\n",
      "v88 meaned 49879 na rows @ 77.3 % nan's\n",
      "v89 meaned 48636 na rows @ 75.4 % nan's\n",
      "v90 meaned 49882 na rows @ 77.3 % nan's\n",
      "v92 meaned 49887 na rows @ 77.3 % nan's\n",
      "v93 meaned 49879 na rows @ 77.3 % nan's\n",
      "v94 meaned 49879 na rows @ 77.3 % nan's\n",
      "v95 meaned 49887 na rows @ 77.3 % nan's\n",
      "v96 meaned 49879 na rows @ 77.3 % nan's\n",
      "v97 meaned 49887 na rows @ 77.3 % nan's\n",
      "v98 meaned 48673 na rows @ 75.4 % nan's\n",
      "v99 meaned 49879 na rows @ 77.3 % nan's\n",
      "v100 meaned 49880 na rows @ 77.3 % nan's\n",
      "v101 meaned 49839 na rows @ 77.3 % nan's\n",
      "v102 meaned 51362 na rows @ 79.6 % nan's\n",
      "v103 meaned 49879 na rows @ 77.3 % nan's\n",
      "v104 meaned 49879 na rows @ 77.3 % nan's\n",
      "v105 meaned 48665 na rows @ 75.4 % nan's\n",
      "v106 meaned 49839 na rows @ 77.3 % nan's\n",
      "v108 meaned 48642 na rows @ 75.4 % nan's\n",
      "v109 meaned 48642 na rows @ 75.4 % nan's\n",
      "v111 meaned 49879 na rows @ 77.3 % nan's\n",
      "v114 meaned 24 na rows @ 0.0 % nan's\n",
      "v115 meaned 49944 na rows @ 77.4 % nan's\n",
      "v116 meaned 49881 na rows @ 77.3 % nan's\n",
      "v117 meaned 48642 na rows @ 75.4 % nan's\n",
      "v118 meaned 49887 na rows @ 77.3 % nan's\n",
      "v119 meaned 50716 na rows @ 78.6 % nan's\n",
      "v120 meaned 49880 na rows @ 77.3 % nan's\n",
      "v121 meaned 49882 na rows @ 77.3 % nan's\n",
      "v122 meaned 49886 na rows @ 77.3 % nan's\n",
      "v123 meaned 50717 na rows @ 78.6 % nan's\n",
      "v124 meaned 48636 na rows @ 75.4 % nan's\n",
      "v126 meaned 49879 na rows @ 77.3 % nan's\n",
      "v127 meaned 49879 na rows @ 77.3 % nan's\n",
      "v128 meaned 48642 na rows @ 75.4 % nan's\n",
      "v130 meaned 49887 na rows @ 77.3 % nan's\n",
      "v131 meaned 49944 na rows @ 77.4 % nan's\n",
      "Value NA Fill Columns: ['v1', 'v2', 'v4', 'v5', 'v6', 'v7', 'v8', 'v9', 'v10', 'v11', 'v12', 'v13', 'v14', 'v15', 'v16', 'v17', 'v18', 'v19', 'v20', 'v23', 'v25', 'v26', 'v27', 'v28', 'v29', 'v32', 'v33', 'v34', 'v35', 'v36', 'v37', 'v39', 'v40', 'v41', 'v42', 'v43', 'v44', 'v45', 'v46', 'v48', 'v49', 'v50', 'v51', 'v53', 'v54', 'v55', 'v57', 'v58', 'v59', 'v60', 'v61', 'v63', 'v64', 'v65', 'v67', 'v68', 'v69', 'v70', 'v73', 'v76', 'v77', 'v78', 'v80', 'v81', 'v82', 'v83', 'v84', 'v85', 'v86', 'v87', 'v88', 'v89', 'v90', 'v92', 'v93', 'v94', 'v95', 'v96', 'v97', 'v98', 'v99', 'v100', 'v101', 'v102', 'v103', 'v104', 'v105', 'v106', 'v108', 'v109', 'v111', 'v114', 'v115', 'v116', 'v117', 'v118', 'v119', 'v120', 'v121', 'v122', 'v123', 'v124', 'v126', 'v127', 'v128', 'v130', 'v131']\n"
     ]
    }
   ],
   "source": [
    "test_new, int_na_fill = eda.na_fill_int(test_new)\n",
    "print 'Value NA Fill Columns:', int_na_fill"
   ]
  },
  {
   "cell_type": "code",
   "execution_count": 163,
   "metadata": {
    "collapsed": false
   },
   "outputs": [
    {
     "name": "stdout",
     "output_type": "stream",
     "text": [
      "v3\n",
      "v24\n",
      "v30\n",
      "v31\n",
      "v38\n",
      "v47\n",
      "v52\n",
      "v56\n",
      "v62\n",
      "v66\n",
      "v71\n",
      "v72\n",
      "v74\n",
      "v75\n",
      "v79\n",
      "v107\n",
      "v110\n",
      "v112\n",
      "v113\n",
      "v125\n",
      "v129\n",
      "Dummy Columns: ['v3', 'v24', 'v30', 'v31', 'v38', 'v47', 'v52', 'v56', 'v62', 'v66', 'v71', 'v72', 'v74', 'v75', 'v79', 'v107', 'v110', 'v112', 'v113', 'v125', 'v129']\n",
      "Dummy v3 ['Cv3' 'Otherv3' 'Bv3' 'Av3']\n",
      "Dummy v24 ['E' 'D' 'B' 'C' 'A']\n",
      "Dummy v30 ['Otherv30' 'Av30' 'Cv30' 'Ev30' 'Dv30' 'Gv30' 'Fv30' 'Bv30']\n",
      "Dummy v31 ['Av31' 'Bv31' 'Otherv31' 'Cv31']\n",
      "Dummy v38 [ 0  4  1  3  2  5  6  9  8  7 10 12]\n",
      "Dummy v47 ['J' 'C' 'I' 'G' 'F' 'D' 'E' 'A' 'B']\n",
      "Dummy v52 ['Cv52' 'Av52' 'Hv52' 'Dv52' 'Lv52' 'Gv52' 'Bv52' 'Iv52' 'Jv52' 'Fv52'\n",
      " 'Ev52' 'Kv52' 'Otherv52']\n",
      "Dummy v56 ['AFv56' 'DIv56' 'DOv56' 'CNv56' 'Otherv56' 'DPv56' 'BJv56' 'BWv56' 'Uv56'\n",
      " 'ASv56' 'BLv56' 'DJv56' 'CYv56' 'BKv56' 'CPv56' 'BZv56' 'Pv56' 'CSv56'\n",
      " 'DFv56' 'AWv56' 'AGv56' 'BMv56' 'DHv56' 'Vv56' 'Gv56' 'DSv56' 'DYv56'\n",
      " 'BVv56' 'BXv56' 'CIv56' 'BYv56' 'Nv56' 'Av56' 'DXv56' 'ANv56' 'DAv56'\n",
      " 'ALv56' 'Yv56' 'AOv56' 'Zv56' 'AZv56' 'ARv56' 'CMv56' 'BAv56' 'Rv56'\n",
      " 'DRv56' 'DNv56' 'DLv56' 'CFv56' 'BQv56' 'BSv56' 'AAv56' 'AIv56' 'DWv56'\n",
      " 'BUv56' 'DMv56' 'AUv56' 'CTv56' 'CAv56' 'DKv56' 'BGv56' 'BHv56' 'BFv56'\n",
      " 'CHv56' 'BIv56' 'CCv56' 'Wv56' 'AKv56' 'BDv56' 'Cv56' 'DQv56' 'CWv56'\n",
      " 'CBv56' 'DZv56' 'DTv56' 'COv56' 'Fv56' 'DGv56' 'CDv56' 'Dv56' 'AYv56'\n",
      " 'Tv56' 'DEv56' 'BNv56' 'DVv56' 'AJv56' 'Bv56' 'CXv56' 'AEv56' 'DUv56'\n",
      " 'AHv56' 'AMv56' 'Kv56' 'CJv56' 'CQv56' 'Ov56' 'BCv56' 'BTv56' 'Qv56'\n",
      " 'BPv56' 'Jv56' 'CVv56' 'ACv56' 'AVv56' 'AQv56' 'CLv56' 'BRv56' 'Ev56'\n",
      " 'CRv56' 'BEv56' 'DDv56' 'CUv56' 'ADv56' 'BBv56' 'ABv56' 'Mv56' 'Sv56']\n",
      "Dummy v62 [1 2 3 0 4 5 6 7]\n",
      "Dummy v66 ['A' 'C' 'B']\n",
      "Dummy v71 ['F' 'B' 'C' 'I' 'E' 'G' 'J' 'L' 'H']\n",
      "Dummy v72 [ 1  5  2  3  0  4  6  9  7  8 10 12 11]\n",
      "Dummy v74 ['B' 'C' 'A']\n",
      "Dummy v75 ['D' 'B' 'A' 'C']\n",
      "Dummy v79 ['Q' 'E' 'C' 'M' 'H' 'B' 'K' 'J' 'P' 'I' 'O' 'D' 'A' 'N' 'F' 'R' 'G']\n",
      "Dummy v107 ['Bv107' 'Dv107' 'Cv107' 'Ev107' 'Av107' 'Fv107' 'Gv107' 'Otherv107']\n",
      "Dummy v110 ['A' 'B' 'C']\n",
      "Dummy v112 ['Uv112' 'Ev112' 'Qv112' 'Fv112' 'Av112' 'Iv112' 'Lv112' 'Cv112' 'Kv112'\n",
      " 'Nv112' 'Bv112' 'Gv112' 'Ov112' 'Dv112' 'Jv112' 'Hv112' 'Sv112' 'Mv112'\n",
      " 'Tv112' 'Pv112' 'Vv112' 'Rv112' 'Otherv112']\n",
      "Dummy v113 ['Otherv113' 'AJv113' 'Gv113' 'Iv113' 'AGv113' 'Mv113' 'Sv113' 'Av113'\n",
      " 'ACv113' 'Bv113' 'AFv113' 'Xv113' 'Uv113' 'Nv113' 'Wv113' 'Pv113' 'AHv113'\n",
      " 'Yv113' 'Ov113' 'Ev113' 'AEv113' 'Vv113' 'Cv113' 'Tv113' 'Qv113' 'Lv113'\n",
      " 'AIv113' 'Fv113' 'ADv113' 'Zv113' 'ABv113' 'Hv113' 'Jv113' 'Dv113' 'Rv113'\n",
      " 'AAv113' 'Kv113']\n",
      "Dummy v125 ['AFv125' 'Iv125' 'AVv125' 'Bv125' 'Av125' 'BMv125' 'CKv125' 'BJv125'\n",
      " 'BHv125' 'ANv125' 'Dv125' 'AKv125' 'CLv125' 'Ov125' 'Lv125' 'Rv125'\n",
      " 'Gv125' 'ARv125' 'APv125' 'Xv125' 'Ev125' 'BEv125' 'BYv125' 'CFv125'\n",
      " 'CAv125' 'AEv125' 'BGv125' 'AIv125' 'ADv125' 'Yv125' 'Kv125' 'Vv125'\n",
      " 'BQv125' 'AZv125' 'BWv125' 'BLv125' 'ATv125' 'CBv125' 'BFv125' 'Pv125'\n",
      " 'Hv125' 'CJv125' 'AYv125' 'Wv125' 'ALv125' 'BOv125' 'BUv125' 'CGv125'\n",
      " 'CDv125' 'AOv125' 'BXv125' 'AGv125' 'ACv125' 'BCv125' 'BVv125' 'BNv125'\n",
      " 'AQv125' 'CCv125' 'Nv125' 'CHv125' 'BKv125' 'Qv125' 'BPv125' 'BSv125'\n",
      " 'BRv125' 'Sv125' 'Zv125' 'BAv125' 'BDv125' 'CEv125' 'AUv125' 'AHv125'\n",
      " 'AMv125' 'AAv125' 'AWv125' 'Mv125' 'Uv125' 'BTv125' 'Otherv125' 'BIv125'\n",
      " 'Tv125' 'Jv125' 'ASv125' 'Cv125' 'BBv125' 'CIv125' 'Fv125' 'ABv125'\n",
      " 'AJv125' 'AXv125' 'BZv125']\n",
      "Dummy v129 [ 0  1  2  3  4  5  6  7  8 11]\n",
      "\n",
      "Boolean Columns: ['AGDF', 'YGJ', 'PWR', 'QKI', 'HZE', 'MNZ', 'PTO', 'ROZ', 'YOD', 'VZF']\n",
      "Boolean AGDF [0 1]\n",
      "Boolean YGJ [0 1]\n",
      "Boolean PWR [0 1]\n",
      "Boolean QKI [0 1]\n",
      "Boolean HZE [0 1]\n",
      "Boolean MNZ [0 1]\n",
      "Boolean PTO [0 1]\n",
      "Boolean ROZ [0 1]\n",
      "Boolean YOD [0 1]\n",
      "Boolean VZF [0 1]\n"
     ]
    }
   ],
   "source": [
    "# CREATE Dummy Columns and insert Boolean values\n",
    "test_newer, dummies, bools = eda.dummy(test_new)\n",
    "\n",
    "print 'Dummy Columns:', dummies\n",
    "for i in dummies:\n",
    "    print \"Dummy\", i, test_new[i].unique()\n",
    "    \n",
    "print \"\"    \n",
    "    \n",
    "print 'Boolean Columns:', bools\n",
    "for i in bools:\n",
    "    print \"Boolean\", i, test_new[i].unique()"
   ]
  },
  {
   "cell_type": "code",
   "execution_count": 164,
   "metadata": {
    "collapsed": false
   },
   "outputs": [],
   "source": [
    "test_new_new = test_newer[top_columns]"
   ]
  },
  {
   "cell_type": "code",
   "execution_count": 170,
   "metadata": {
    "collapsed": false
   },
   "outputs": [],
   "source": [
    "x_test = test_new_new\n",
    "test_probas = lasso_fit.predict(x_test)\n",
    "test_ids = test_new_new.index.values"
   ]
  },
  {
   "cell_type": "code",
   "execution_count": 177,
   "metadata": {
    "collapsed": false
   },
   "outputs": [
    {
     "data": {
      "text/html": [
       "<div>\n",
       "<table border=\"1\" class=\"dataframe\">\n",
       "  <thead>\n",
       "    <tr style=\"text-align: right;\">\n",
       "      <th></th>\n",
       "      <th>ID</th>\n",
       "      <th>PredictedProb</th>\n",
       "    </tr>\n",
       "  </thead>\n",
       "  <tbody>\n",
       "    <tr>\n",
       "      <th>0</th>\n",
       "      <td>0.0</td>\n",
       "      <td>0.597687</td>\n",
       "    </tr>\n",
       "    <tr>\n",
       "      <th>1</th>\n",
       "      <td>1.0</td>\n",
       "      <td>0.850172</td>\n",
       "    </tr>\n",
       "    <tr>\n",
       "      <th>2</th>\n",
       "      <td>2.0</td>\n",
       "      <td>0.741875</td>\n",
       "    </tr>\n",
       "    <tr>\n",
       "      <th>3</th>\n",
       "      <td>7.0</td>\n",
       "      <td>0.573277</td>\n",
       "    </tr>\n",
       "    <tr>\n",
       "      <th>4</th>\n",
       "      <td>10.0</td>\n",
       "      <td>0.655749</td>\n",
       "    </tr>\n",
       "  </tbody>\n",
       "</table>\n",
       "</div>"
      ],
      "text/plain": [
       "     ID  PredictedProb\n",
       "0   0.0       0.597687\n",
       "1   1.0       0.850172\n",
       "2   2.0       0.741875\n",
       "3   7.0       0.573277\n",
       "4  10.0       0.655749"
      ]
     },
     "execution_count": 177,
     "metadata": {},
     "output_type": "execute_result"
    }
   ],
   "source": [
    "test_results = pd.DataFrame(np.vstack((test_ids, test_probas)).T)\n",
    "test_results.columns = ['ID', 'PredictedProb']\n",
    "test_results.ID,0\n",
    "test_results.head()"
   ]
  },
  {
   "cell_type": "code",
   "execution_count": 178,
   "metadata": {
    "collapsed": true
   },
   "outputs": [],
   "source": [
    "test_results.to_csv('submission.csv', index=False)"
   ]
  },
  {
   "cell_type": "code",
   "execution_count": null,
   "metadata": {
    "collapsed": true
   },
   "outputs": [],
   "source": []
  }
 ],
 "metadata": {
  "kernelspec": {
   "display_name": "Python 2",
   "language": "python",
   "name": "python2"
  },
  "language_info": {
   "codemirror_mode": {
    "name": "ipython",
    "version": 2
   },
   "file_extension": ".py",
   "mimetype": "text/x-python",
   "name": "python",
   "nbconvert_exporter": "python",
   "pygments_lexer": "ipython2",
   "version": "2.7.10"
  }
 },
 "nbformat": 4,
 "nbformat_minor": 0
}
